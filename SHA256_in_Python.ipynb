{
  "nbformat": 4,
  "nbformat_minor": 0,
  "metadata": {
    "colab": {
      "provenance": [],
      "authorship_tag": "ABX9TyMMZXobMddoq9s3AvrURtbO",
      "include_colab_link": true
    },
    "kernelspec": {
      "name": "python3",
      "display_name": "Python 3"
    },
    "language_info": {
      "name": "python"
    }
  },
  "cells": [
    {
      "cell_type": "markdown",
      "metadata": {
        "id": "view-in-github",
        "colab_type": "text"
      },
      "source": [
        "<a href=\"https://colab.research.google.com/github/robinjameslee/SHA256-in-Python/blob/main/SHA256_in_Python.ipynb\" target=\"_parent\"><img src=\"https://colab.research.google.com/assets/colab-badge.svg\" alt=\"Open In Colab\"/></a>"
      ]
    },
    {
      "cell_type": "markdown",
      "source": [
        "What is SHA256?\n",
        "\n",
        "SHA-256 is a part of SHA-2 (Secure Hash Algorithm 2), and is one of the most popular hash algorithms, likely because of Cryptocurrency's adoption of the mehtod. \n",
        "\n",
        "In this Notebook, I'll try to calculate the SHA256 result of a string step by step.\n",
        "\n",
        "Reference:\n",
        "*   https://www.movable-type.co.uk/scripts/sha256.html\n",
        "*   https://blog.boot.dev/cryptography/how-sha-2-works-step-by-step-sha-256/"
      ],
      "metadata": {
        "id": "ckLl0ilgsZso"
      }
    },
    {
      "cell_type": "code",
      "execution_count": 47,
      "metadata": {
        "id": "9rcKHFy5go6j"
      },
      "outputs": [],
      "source": [
        "import hashlib\n",
        "import math"
      ]
    },
    {
      "cell_type": "markdown",
      "source": [
        "First let's use python's hashlib package to calculate the hashed string"
      ],
      "metadata": {
        "id": "SP2PDfAKtH3a"
      }
    },
    {
      "cell_type": "code",
      "source": [
        "sample_str = 'SHA256 in Python'\n",
        "\n",
        "hased_str = hashlib.sha256(sample_str.encode())\n",
        "print(hased_str.hexdigest())"
      ],
      "metadata": {
        "colab": {
          "base_uri": "https://localhost:8080/"
        },
        "id": "7qxWK-kBrQDB",
        "outputId": "b088c8e4-607c-4e98-9a72-8d60454d5075"
      },
      "execution_count": 48,
      "outputs": [
        {
          "output_type": "stream",
          "name": "stdout",
          "text": [
            "3a2375f5162bf259ad04ce7b92425e86698768eb8dab4ae00660d5cf02458770\n"
          ]
        }
      ]
    },
    {
      "cell_type": "markdown",
      "source": [
        "Let's try to calculate the above result step by step without using the package\n",
        "\n",
        "The main purposes of a hash function are:\n",
        "1. To randomize the data\n",
        "2. To accept an input of vary length and return a fixed-length output\n",
        "3. To make sure the input couldn't be derived from the output"
      ],
      "metadata": {
        "id": "lEQh3c6ctSWG"
      }
    },
    {
      "cell_type": "code",
      "source": [
        "# 1. Convert our sample string to binary\n",
        "sample_str_binary = ''.join(f'{ord(i):08b}' for i in sample_str)\n",
        "\n",
        "# 2. Append a '1'\n",
        "sample_str_binary += '1'\n",
        "\n",
        "# 3. Append '0's to make the length of the binaries to a multiple of 512 less 64 bits\n",
        "len_sample_str_binary = len(sample_str_binary)\n",
        "multiple_of_512 = math.ceil(len_sample_str_binary / 512)\n",
        "\n",
        "padded_bits = multiple_of_512 * 512 - len_sample_str_binary - 8\n",
        "sample_str_binary += '0' * padded_bits\n",
        "\n",
        "# 4. Append 64 bits to the end where they're the binary form of the length of the our sample string\n",
        "sample_str_binary += format(len(sample_str) * 8, '08b')\n",
        "print(f'length: {len(sample_str_binary)}, {sample_str_binary}')"
      ],
      "metadata": {
        "colab": {
          "base_uri": "https://localhost:8080/"
        },
        "id": "ewFCK-O-rmGv",
        "outputId": "8faec630-e6ae-467c-c39e-af2d40630bd8"
      },
      "execution_count": 49,
      "outputs": [
        {
          "output_type": "stream",
          "name": "stdout",
          "text": [
            "length: 512, 01010011010010000100000100110010001101010011011000100000011010010110111000100000010100000111100101110100011010000110111101101110100000000000000000000000000000000000000000000000000000000000000000000000000000000000000000000000000000000000000000000000000000000000000000000000000000000000000000000000000000000000000000000000000000000000000000000000000000000000000000000000000000000000000000000000000000000000000000000000000000000000000000000000000000000000000000000000000000000000000000000000000000000000000010000000\n"
          ]
        }
      ]
    },
    {
      "cell_type": "code",
      "source": [
        "# 5. Initialize Hash Values (h)\n",
        "# Here we create 8 hash values which are the first 32 bits of the fractional parts of the square root of the first 8 prime numbers 2, 3, 5, 7, 11, 13, 17, 19\n",
        "def initialize_hash_values(n):\n",
        "  res = math.sqrt(n)\n",
        "  res = math.modf(res)[0] # take the decimals only\n",
        "  # res = hex(int(res * (2**32))) # backup function if you'd like the number in hex format\n",
        "  res = int(res * (2**32))\n",
        "  return f'{res:032b}' # return in 32 bits\n",
        "\n",
        "def hex_to_32bits(n):\n",
        "  return f'{int(n, 16):032b}'\n",
        "\n",
        "h0 = initialize_hash_values(2) # h0 = 6A09E667 = 01101010000010011110011001100111\n",
        "h1 = initialize_hash_values(3) # h1 = BB67AE85 = 10111011011001111010111010000101\n",
        "h2 = initialize_hash_values(5) # h2 = 3C6EF372 = 00111100011011101111001101110010\n",
        "h3 = initialize_hash_values(7) # h3 = A54FF53A = 10100101010011111111010100111010\n",
        "h4 = initialize_hash_values(11) # h4 = 510E527F = 01010001000011100101001001111111\n",
        "h5 = initialize_hash_values(13) # h5 = 9B05688C = 10011011000001010110100010001100\n",
        "h6 = initialize_hash_values(17) # h6 = 1F83D9AB = 00011111100000111101100110101011\n",
        "h7 = initialize_hash_values(19) # h7 = 5BE0CD19 = 01011011111000001100110100011001\n",
        "\n",
        "# Initialize variables a, b, c, d, e, f, g, h and set them equal to the current hash values respectively. h0, h1, h2, h3, h4, h5, h6, h7\n",
        "a = h0\n",
        "b = h1\n",
        "c = h2\n",
        "d = h3\n",
        "e = h4\n",
        "f = h5\n",
        "g = h6\n",
        "h = h7"
      ],
      "metadata": {
        "id": "8tG0vodDvVjA"
      },
      "execution_count": 50,
      "outputs": []
    },
    {
      "cell_type": "code",
      "source": [
        "# 6. Initialize Round Constants (k)\n",
        "# These are words representing the first 32 bits of the fractional parts of the cube roots of the first 64 prime numbers, in hex format\n",
        "k = [\n",
        "  '0x428a2f98', '0x71374491', '0xb5c0fbcf', '0xe9b5dba5', '0x3956c25b', '0x59f111f1', '0x923f82a4', '0xab1c5ed5',\n",
        "  '0xd807aa98', '0x12835b01', '0x243185be', '0x550c7dc3', '0x72be5d74', '0x80deb1fe', '0x9bdc06a7', '0xc19bf174',\n",
        "  '0xe49b69c1', '0xefbe4786', '0x0fc19dc6', '0x240ca1cc', '0x2de92c6f', '0x4a7484aa', '0x5cb0a9dc', '0x76f988da',\n",
        "  '0x983e5152', '0xa831c66d', '0xb00327c8', '0xbf597fc7', '0xc6e00bf3', '0xd5a79147', '0x06ca6351', '0x14292967',\n",
        "  '0x27b70a85', '0x2e1b2138', '0x4d2c6dfc', '0x53380d13', '0x650a7354', '0x766a0abb', '0x81c2c92e', '0x92722c85',\n",
        "  '0xa2bfe8a1', '0xa81a664b', '0xc24b8b70', '0xc76c51a3', '0xd192e819', '0xd6990624', '0xf40e3585', '0x106aa070',\n",
        "  '0x19a4c116', '0x1e376c08', '0x2748774c', '0x34b0bcb5', '0x391c0cb3', '0x4ed8aa4a', '0x5b9cca4f', '0x682e6ff3',\n",
        "  '0x748f82ee', '0x78a5636f', '0x84c87814', '0x8cc70208', '0x90befffa', '0xa4506ceb', '0xbef9a3f7', '0xc67178f2'\n",
        "]\n",
        "\n",
        "K = [hex_to_32bits(i) for i in k] # convert them in 32 bits"
      ],
      "metadata": {
        "id": "kCf5Ai4hVgaN"
      },
      "execution_count": 51,
      "outputs": []
    },
    {
      "cell_type": "code",
      "source": [
        "# 7. Create Message Schedule (w)\n",
        "# Copy the input data from step 1 into a new array where each entry is a 32-bit word:\n",
        "sample_str_32bit = [sample_str_binary[i:i+32] for i in range(0, len(sample_str_binary), 32)]\n",
        "sample_str_32bit"
      ],
      "metadata": {
        "id": "pnlLju7uVtcV",
        "colab": {
          "base_uri": "https://localhost:8080/"
        },
        "outputId": "41b2427c-b7b7-4f19-daab-fb5e8c61f2d7"
      },
      "execution_count": 52,
      "outputs": [
        {
          "output_type": "execute_result",
          "data": {
            "text/plain": [
              "['01010011010010000100000100110010',\n",
              " '00110101001101100010000001101001',\n",
              " '01101110001000000101000001111001',\n",
              " '01110100011010000110111101101110',\n",
              " '10000000000000000000000000000000',\n",
              " '00000000000000000000000000000000',\n",
              " '00000000000000000000000000000000',\n",
              " '00000000000000000000000000000000',\n",
              " '00000000000000000000000000000000',\n",
              " '00000000000000000000000000000000',\n",
              " '00000000000000000000000000000000',\n",
              " '00000000000000000000000000000000',\n",
              " '00000000000000000000000000000000',\n",
              " '00000000000000000000000000000000',\n",
              " '00000000000000000000000000000000',\n",
              " '00000000000000000000000010000000']"
            ]
          },
          "metadata": {},
          "execution_count": 52
        }
      ]
    },
    {
      "cell_type": "code",
      "source": [
        "# 8. Add 48 more words initialized to zero, such that we have an array w[0…63]\n",
        "sample_str_32bit += ['00000000000000000000000000000000'] * 48"
      ],
      "metadata": {
        "id": "jfWsWwlClmvX"
      },
      "execution_count": 53,
      "outputs": []
    },
    {
      "cell_type": "code",
      "source": [
        "def r_rotate(str, n): # right rotate\n",
        "    return str[-n:] + str[:-n]\n",
        "\n",
        "def r_shift(str, n): # right shift\n",
        "    return n * '0' + str[:-n]\n",
        "\n",
        "def bitwise_orp(symbol, *args):\n",
        "    res = int(args[0], 2)\n",
        "    for i in args[1:]:\n",
        "      if symbol == '&':\n",
        "        res &= int(i, 2)\n",
        "      elif symbol == '|':\n",
        "        res |= int(i, 2)\n",
        "      elif symbol == '^':\n",
        "        res ^= int(i, 2)\n",
        "    return f'{res:032b}'\n",
        "\n",
        "def bitwise_not(n):\n",
        "    res = ~int(n, 2)\n",
        "    return f'{res:032b}'\n",
        "\n",
        "def add_mod32(*args):\n",
        "    res = int(args[0], 2)\n",
        "    for i in args[1:]:\n",
        "        res += int(i, 2)\n",
        "    res %= 2 ** 32\n",
        "    return f'{res:032b}'\n",
        "\n",
        "w = sample_str_32bit # take a copy\n",
        "\n",
        "for i in range(16, 64):\n",
        "    sigma_0 = bitwise_orp('^', r_rotate(w[i-15], 7), r_rotate(w[i-15], 18), r_shift(w[i-15], 3))\n",
        "    sigma_1 = bitwise_orp('^', r_rotate(w[i-2], 17), r_rotate(w[i-2], 19), r_shift(w[i-2], 10))\n",
        "    w[i] = add_mod32(w[i-16], sigma_0, w[i-7], sigma_1)"
      ],
      "metadata": {
        "id": "slZwTooXlu-Q"
      },
      "execution_count": 54,
      "outputs": []
    },
    {
      "cell_type": "code",
      "source": [
        "# 9. Run the compression loop as follows:\n",
        "for i in range(64):\n",
        "    sigma_1 = bitwise_orp('^', r_rotate(e, 6), r_rotate(e, 11), r_rotate(e, 25))\n",
        "    choose = bitwise_orp('^', bitwise_orp('&', e, f), bitwise_orp('&', bitwise_not(e), g))\n",
        "    temp_1 = add_mod32(h, sigma_1, choose, K[i], w[i])\n",
        "\n",
        "    sigma_0 = bitwise_orp('^', r_rotate(a, 2), r_rotate(a, 13), r_rotate(a, 22))\n",
        "    majority = bitwise_orp('^', bitwise_orp('&', a, b), bitwise_orp('&', a, c), bitwise_orp('&', b, c))\n",
        "    temp_2 = add_mod32(sigma_0, majority)\n",
        "\n",
        "    h = g\n",
        "    g = f\n",
        "    f = e\n",
        "    e = add_mod32(d, temp_1)\n",
        "    d = c\n",
        "    c = b\n",
        "    b = a\n",
        "    a = add_mod32(temp_1, temp_2)"
      ],
      "metadata": {
        "id": "MQKY93DYWLKy"
      },
      "execution_count": 55,
      "outputs": []
    },
    {
      "cell_type": "code",
      "source": [
        "# 10. Modify Final Values\n",
        "# Modify the hash values by adding their respective variables to them, a-h, in modulo 2^32.\n",
        "h0 = add_mod32(h0, a)\n",
        "h1 = add_mod32(h1, b)\n",
        "h2 = add_mod32(h2, c)\n",
        "h3 = add_mod32(h3, d)\n",
        "h4 = add_mod32(h4, e)\n",
        "h5 = add_mod32(h5, f)\n",
        "h6 = add_mod32(h6, g)\n",
        "h7 = add_mod32(h7, h)"
      ],
      "metadata": {
        "id": "qFYrsez5WNzL"
      },
      "execution_count": 56,
      "outputs": []
    },
    {
      "cell_type": "code",
      "source": [
        "# 11. Concatenate h0 to h7 to get our final output\n",
        "final_output = ''.join([hex(int(i, 2))[2:] for i in [h0,h1,h2,h3,h4,h5,h6,h7]])\n",
        "print(f'Our result: {final_output}')\n",
        "print(f'Python package result: {hased_str.hexdigest()}')"
      ],
      "metadata": {
        "id": "oZBxQccIWRzd",
        "colab": {
          "base_uri": "https://localhost:8080/"
        },
        "outputId": "326d38c6-39bc-4734-e46c-1ded7cbca684"
      },
      "execution_count": 57,
      "outputs": [
        {
          "output_type": "stream",
          "name": "stdout",
          "text": [
            "Our result: 3a2375f5162bf259ad04ce7b92425e86698768eb8dab4ae0660d5cf2458770\n",
            "Python package result: 3a2375f5162bf259ad04ce7b92425e86698768eb8dab4ae00660d5cf02458770\n"
          ]
        }
      ]
    }
  ]
}